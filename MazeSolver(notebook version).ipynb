{
 "cells": [
  {
   "cell_type": "markdown",
   "id": "59588736-f1bc-45a1-82e2-5e94b94efa67",
   "metadata": {},
   "source": [
    "Each maze is an array of arrays, where each value is either a 0 (a path) or 1 (a wall). The goal is to plot the shortest path through the maze.\n",
    "\n",
    "We start by importing the packages we'll be using and run MazeGen.gen_maze2() to get an idea of what the mazes we'll be solving look like. Note that there are two functions that generate a maze in MazeGen: gen_maze(), which generates a maze with one solution, and gen_maze2(), which generates a maze that has multiple paths through the maze. We'll be using gen_maze2() and finding the shortest route through the maze since that adds a layer of difficulty."
   ]
  },
  {
   "cell_type": "code",
   "execution_count": 21,
   "id": "a565baf1-fd00-4748-a3c0-f9422ac73788",
   "metadata": {},
   "outputs": [
    {
     "data": {
      "image/png": "[encoded data removed]",
      "text/plain": [
       "<Figure size 640x480 with 1 Axes>"
      ]
     },
     "metadata": {},
     "output_type": "display_data"
    }
   ],
   "source": [
    "import matplotlib.pyplot as plt\n",
    "import MazeGen #credit to Jed Rembold who created the script that generates random mazes!\n",
    "\n",
    "size = 20\n",
    "maze, enter, exitt = MazeGen.gen_maze2(size)\n",
    "plt.imshow(maze,'gray_r')\n",
    "plt.axis(\"off\")\n",
    "plt.tight_layout()\n",
    "plt.show()"
   ]
  },
  {
   "cell_type": "markdown",
   "id": "1fe74e76-c20a-44f2-8ae3-25d10906f50a",
   "metadata": {},
   "source": [
    "Next, we define several functions that we'll use in the main BFS algorithm. There are a few points to make here:\n",
    "- The function getPath() returns a list of the coordinates that make up the shortest path through the maze. This is done by creating a dictionary where each key:value pair is a coordinate (key) and its parent coordinate (value). Given a starting point, by repeatedly finding its value and plugging it back into the dictionary as a key, we can obtain a list of coordinates which make up the shortest path.\n",
    "- setAdjacentBFS returns a string:tuple dictionary where each key is a cardinal direction and each tuple is a coordinate. Plainly, it holds the adjacent coordinates of a position.\n",
    "- enqueValidCoords() adds valid movements (open spaces that haven't already been visited) to a queue."
   ]
  },
  {
   "cell_type": "code",
   "execution_count": 22,
   "id": "002603a7-1ea0-4dea-b206-83e4414e4a5a",
   "metadata": {},
   "outputs": [],
   "source": [
    "def contains(structure, item):\n",
    "    \"\"\"Given a dict/set and an item, returns True if the item is contained in the dict/set. Returns false otherwise.\n",
    "       (If I were to re-write this function with my knowledge of CS now, I... wouldn't. I'd remove it completely. Code is\n",
    "       kept the same for posterity.\"\"\"\n",
    "    #if type is dict or set, lookup efficiency is O(1)\n",
    "    if item in structure:\n",
    "        return True\n",
    "    return False\n",
    "\n",
    "def getPath(parentDict, enter, exitt):\n",
    "    \"\"\"Returns a list of coordinates that define the shorest path from the exit to the start. Note that parentDict must be in an extremely specific\n",
    "       form for this to work. Variable 'enter' is a key attached to a value which is another key. This function emulates a linkedlist without\n",
    "       implementing a more robust class.\n",
    "    \"\"\"\n",
    "    coords = [exitt]\n",
    "    curr = exitt\n",
    "    while contains(parentDict,parentDict[curr]) is True:\n",
    "        coords.append(parentDict[curr])\n",
    "        curr = parentDict[curr]\n",
    "    coords.append((1,enter[1]))\n",
    "    coords.append((0,enter[1]))\n",
    "    return coords\n",
    "\n",
    "def initBFS():\n",
    "    \"\"\"Initializes values for the BFS. We create a dict 'adj' where adjacent values and coordinates are stored.\n",
    "    \"\"\"\n",
    "    dictVals = 'upVal upCoords downVal downCoords leftVal leftCoords rightVal rightCoords'\n",
    "    dictVals = dictVals.split(' ')\n",
    "    adj = {i:None for i in dictVals}\n",
    "    return adj\n",
    "\n",
    "def setAdjacentBFS(adj,curr,maze):\n",
    "    \"\"\"Given a coordinate, returns a variable that holds all adjacent values and coordinates.\n",
    "    \"\"\"\n",
    "    y,x = curr\n",
    "    adj['upVal'],adj['upCoords'] = maze[y-1,x],(y-1,x)\n",
    "    adj['downVal'],adj['downCoords'] = maze[y+1,x],(y+1,x)\n",
    "    adj['leftVal'],adj['leftCoords'] = maze[y,x-1],(y,x-1)\n",
    "    adj['rightVal'],adj['rightCoords'] = maze[y,x+1],(y,x+1)\n",
    "    return adj\n",
    "\n",
    "def enqueueValidCoords(queue,adj,visitedSet,parentDict,curr):\n",
    "    \"\"\"Appends valid next moves (non-walls) to a queue.\n",
    "    \"\"\"\n",
    "    if (adj['upVal'] == 0) and (not contains(visitedSet,adj['upCoords'])):\n",
    "        queue.append(adj['upCoords'])\n",
    "        parentDict[adj['upCoords']] = curr\n",
    "    if (adj['rightVal'] == 0) and (not contains(visitedSet,adj['rightCoords'])):\n",
    "        queue.append(adj['rightCoords'])\n",
    "        parentDict[adj['rightCoords']] = curr\n",
    "    if (adj['downVal'] == 0) and (not contains(visitedSet,adj['downCoords'])):\n",
    "        queue.append(adj['downCoords'])\n",
    "        parentDict[adj['downCoords']] = curr\n",
    "    if (adj['leftVal'] == 0) and (not contains(visitedSet,adj['leftCoords'])):\n",
    "        queue.append(adj['leftCoords'])\n",
    "        parentDict[adj['leftCoords']] = curr\n",
    "    return queue,parentDict"
   ]
  },
  {
   "cell_type": "markdown",
   "id": "0b8d41cc-5fd1-47d1-8758-2d33e628780c",
   "metadata": {},
   "source": [
    "Lastly, we run the BFS search and plot its results. This algorithm works by exploring each valid space adjacent to the current space. These valid spaces are explored at the same time (hence breadth-first instead of depth-first). When the exit space is reached, we use the previously described method to follow the linkedlist back to the start. We then plot the path on top of the maze using matplotlib."
   ]
  },
  {
   "cell_type": "code",
   "execution_count": 23,
   "id": "9c5eab84-f3eb-4a14-8b04-90c11f0cd0a0",
   "metadata": {},
   "outputs": [
    {
     "data": {
      "image/png": "[encoded data removed]",
      "text/plain": [
       "<Figure size 800x800 with 1 Axes>"
      ]
     },
     "metadata": {},
     "output_type": "display_data"
    }
   ],
   "source": [
    "def BFS(maze,enter,exitt):\n",
    "    \"\"\"Performs the BFS search.\n",
    "    \"\"\"\n",
    "    visitedSet = {enter}\n",
    "    enter = (1,enter[1])\n",
    "    queue = [enter]\n",
    "    curr = None\n",
    "    parentDict = {}\n",
    "    parentCoords = None\n",
    "    adj = initBFS()\n",
    "    while curr != exitt and len(queue) > 0:\n",
    "        curr = queue.pop(0)\n",
    "        visitedSet.add(curr)\n",
    "        if curr == exitt:\n",
    "            break\n",
    "        adj = setAdjacentBFS(adj,curr,maze)\n",
    "        queue,parentDict = enqueueValidCoords(queue,adj,visitedSet,parentDict,curr)\n",
    "        \n",
    "    #path has been found\n",
    "    coords = getPath(parentDict, enter, exitt)\n",
    "    xs = [p[0] for p in coords]\n",
    "    ys = [p[1] for p in coords]\n",
    "    plt.imshow(maze,'gray_r')\n",
    "    plt.plot(ys,xs,linewidth=4)\n",
    "    plt.axis(\"off\")\n",
    "    plt.tight_layout()\n",
    "    plt.show()\n",
    "\n",
    "size = 30\n",
    "maze, enter, exitt = MazeGen.gen_maze2(size)\n",
    "plt.figure(figsize=(8,8))\n",
    "BFS(maze, enter, exitt)"
   ]
  },
  {
   "cell_type": "code",
   "execution_count": null,
   "id": "668ec852-7294-44b9-b88d-d8f9d8bc87d5",
   "metadata": {},
   "outputs": [],
   "source": []
  }
 ],
 "metadata": {
  "kernelspec": {
   "display_name": "Python 3 (ipykernel)",
   "language": "python",
   "name": "python3"
  },
  "language_info": {
   "codemirror_mode": {
    "name": "ipython",
    "version": 3
   },
   "file_extension": ".py",
   "mimetype": "text/x-python",
   "name": "python",
   "nbconvert_exporter": "python",
   "pygments_lexer": "ipython3",
   "version": "3.10.11"
  }
 },
 "nbformat": 4,
 "nbformat_minor": 5
}
